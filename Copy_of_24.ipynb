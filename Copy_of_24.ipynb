{
  "nbformat": 4,
  "nbformat_minor": 0,
  "metadata": {
    "kernelspec": {
      "display_name": "Python 3",
      "language": "python",
      "name": "python3"
    },
    "language_info": {
      "codemirror_mode": {
        "name": "ipython",
        "version": 3
      },
      "file_extension": ".py",
      "mimetype": "text/x-python",
      "name": "python",
      "nbconvert_exporter": "python",
      "pygments_lexer": "ipython3",
      "version": "3.7.3"
    },
    "colab": {
      "name": "Copy of 24.ipynb",
      "version": "0.3.2",
      "provenance": [],
      "collapsed_sections": [],
      "include_colab_link": true
    }
  },
  "cells": [
    {
      "cell_type": "markdown",
      "metadata": {
        "id": "view-in-github",
        "colab_type": "text"
      },
      "source": [
        "<a href=\"https://colab.research.google.com/github/yangha7/24/blob/master/Copy_of_24.ipynb\" target=\"_parent\"><img src=\"https://colab.research.google.com/assets/colab-badge.svg\" alt=\"Open In Colab\"/></a>"
      ]
    },
    {
      "cell_type": "markdown",
      "metadata": {
        "id": "SfDMVcdPlV-v",
        "colab_type": "text"
      },
      "source": [
        "### The following code is to solve the game 24, \n",
        "### 24 is the game I played when I was a kid. By randomly drawing 4 cards from a deck, one can apply +, -, *, / among these numbers to make them 24. Each card (number) must be used and only used once.\n",
        "### A function Is24(a, b, c, d) is written. If the 4 numbers a, b, c, and d can make 24 based on the rules above, a hint is going to given. If they cannot make 24, it will simply print impossible.\n",
        "### There are in general only 2 ways to combine the 4 numbers: (a,b),(c,d) pattern and ((a,b),c),d pattern. I have tried to consider all the possible combinations so the order of the 4 input numbers does not matter."
      ]
    },
    {
      "cell_type": "code",
      "metadata": {
        "id": "CLaz8XxNlV-w",
        "colab_type": "code",
        "colab": {}
      },
      "source": [
        "#This is set for further test cases other than 24\n",
        "#a range is set to deal with possible errors for float calculations, say 23.999 < x < 24.001 are all good\n",
        "goal = 24\n",
        "lowBound = goal - .0001\n",
        "highBound = goal + .0001"
      ],
      "execution_count": 0,
      "outputs": []
    },
    {
      "cell_type": "code",
      "metadata": {
        "id": "OrRIhUgllV-z",
        "colab_type": "code",
        "colab": {}
      },
      "source": [
        "# Subfunction, TwoAndTwo(a, b, c, d)\n",
        "# Test if 24 can be solved by (a,b),(c,d) manner, Try all possible combinations\n",
        "# Return 1 if possible and give a Hint; Return 0 if not possible.\n",
        "\n",
        "def TwoAndTwo(a, b, c, d):\n",
        "\n",
        "    h1 = a + b\n",
        "    h2 = a - b\n",
        "    h3 = b - a\n",
        "    h4 = a * b\n",
        "    if b != 0:\n",
        "        h5 = a / b\n",
        "    if a != 0:\n",
        "        h6 = b / a\n",
        "\n",
        "    y1 = c + d\n",
        "    y2 = c - d\n",
        "    y3 = d - c\n",
        "    y4 = c * d\n",
        "    if d != 0:\n",
        "        y5 = c / d\n",
        "    if c != 0:\n",
        "        y6 = d / c\n",
        "\n",
        "    for h in [h1, h2, h3, h4, h5, h6]:\n",
        "        for y in [y1, y2, y3, y4, y5, y6]:\n",
        "            if lowBound < h + y < highBound:\n",
        "                print ('Hint: (', a, b, ') ->', h, 'and (', c, d, ') ->', y, 'then ', h, '+', y, \"=\", goal)\n",
        "                return 1\n",
        "            if lowBound < h - y < highBound:\n",
        "                print ('Hint: (', a, b, ') ->', h, 'and (', c, d, ') ->', y, 'then ', h, '-', y, \"=\", goal)\n",
        "                return 1\n",
        "            if lowBound < y - h < highBound:\n",
        "                print ('Hint: (', a, b, ') ->', h, 'and (', c, d, ') ->', y, 'then ', y, '-', h, \"=\", goal)\n",
        "                return 1\n",
        "            if lowBound < h * y < highBound:\n",
        "                print ('Hint: (', a, b, ') ->', h, 'and (', c, d, ') ->', y, 'then ', h, '*', y, \"=\", goal)\n",
        "                return 1\n",
        "            if y != 0 and lowBound < h / y < highBound:\n",
        "                print ('Hint: (', a, b, ') ->', h, 'and (', c, d, ') ->', y, 'then ', h, '/', y, \"=\", goal)\n",
        "                return 1\n",
        "            if h != 0 and lowBound < y / h < highBound:\n",
        "                print ('Hint: (', a, b, ') ->', h, 'and (', c, d, ') ->', y, 'then ', y, '/', h, \"=\", goal)\n",
        "                return 1\n",
        "    return 0\n",
        "\n"
      ],
      "execution_count": 0,
      "outputs": []
    },
    {
      "cell_type": "code",
      "metadata": {
        "colab_type": "code",
        "id": "AU2BHvqqtMrI",
        "colab": {}
      },
      "source": [
        "# Subfunction, TwoAndTwo(a, b, c, d)\n",
        "# Test if 24 can be solved by (a,b),(c,d) manner, Try all possible combinations\n",
        "# Return 1 if possible and return 0 if not possible. Do not give solutions.\n",
        "\n",
        "def TwoAndTwoNoPrint(a, b, c, d):\n",
        "\n",
        "    h1 = a + b\n",
        "    h2 = a - b\n",
        "    h3 = b - a\n",
        "    h4 = a * b\n",
        "    if b != 0:\n",
        "        h5 = a / b\n",
        "    if a != 0:\n",
        "        h6 = b / a\n",
        "\n",
        "    y1 = c + d\n",
        "    y2 = c - d\n",
        "    y3 = d - c\n",
        "    y4 = c * d\n",
        "    if d != 0:\n",
        "        y5 = c / d\n",
        "    if c != 0:\n",
        "        y6 = d / c\n",
        "\n",
        "    for h in [h1, h2, h3, h4, h5, h6]:\n",
        "        for y in [y1, y2, y3, y4, y5, y6]:\n",
        "            if lowBound < h + y < highBound:\n",
        "                return 1\n",
        "            if lowBound < h - y < highBound:\n",
        "                return 1\n",
        "            if lowBound < y - h < highBound:\n",
        "                return 1\n",
        "            if lowBound < h * y < highBound:\n",
        "                return 1\n",
        "            if y != 0 and lowBound < h / y < highBound:\n",
        "                return 1\n",
        "            if h != 0 and lowBound < y / h < highBound:\n",
        "                return 1\n",
        "    return 0\n",
        "\n"
      ],
      "execution_count": 0,
      "outputs": []
    },
    {
      "cell_type": "code",
      "metadata": {
        "id": "eWCMg3oWlV-2",
        "colab_type": "code",
        "colab": {}
      },
      "source": [
        "# Subfunction, ThreeAndOne(a, b, c, d)\n",
        "# Test if 24 can be solved by ((a,b),c),d) manner, Try all possible combinations\n",
        "# Return 1 if possible and give a Hint; Return 0 if not possible.\n",
        "\n",
        "def ThreeAndOne(a, b, c, d):\n",
        "    \n",
        "    h1 = a + b\n",
        "    h2 = a - b\n",
        "    h3 = b - a\n",
        "    h4 = a * b\n",
        "    if b != 0:\n",
        "        h5 = a / b\n",
        "    if a != 0:\n",
        "        h6 = b / a\n",
        "        \n",
        "    # find all combination of (h, c)\n",
        "    for h in [h1, h2, h3, h4, h5, h6]:\n",
        "        z1 = h + c\n",
        "        z2 = h - c\n",
        "        z3 = c - h\n",
        "        z4 = h * c\n",
        "        if c != 0:\n",
        "            z5 = h / c\n",
        "        if h != 0:\n",
        "            z6 = c / h\n",
        "        \n",
        "        for z in [z1, z2, z3, z4, z5, z6]:\n",
        "            if lowBound < z + d < highBound:\n",
        "                print ('Hint: (', a, b, ') ->', h, 'then (', h, c, ') ->', z, 'then ', z, '+', d, \"=\", goal)\n",
        "                return 1\n",
        "            if lowBound < z - d < highBound:\n",
        "                print ('Hint: (', a, b, ') ->', h, 'then (', h, c, ') ->', z, 'then ', z, '-', d, \"=\", goal)\n",
        "                return 1\n",
        "            if lowBound < d - z < highBound:\n",
        "                print ('Hint: (', a, b, ') ->', h, 'then (', h, c, ') ->', z, 'then ', d, '-', z, \"=\", goal)\n",
        "                return 1\n",
        "            if lowBound < z * d < highBound:\n",
        "                print ('Hint: (', a, b, ') ->', h, 'then (', h, c, ') ->', z, 'then ', z, '*', d, \"=\", goal)\n",
        "                return 1\n",
        "            if d != 0 and lowBound < z / d < highBound:\n",
        "                print ('Hint: (', a, b, ') ->', h, 'then (', h, c, ') ->', z, 'then ', z, '/', d, \"=\", goal)\n",
        "                return 1\n",
        "            if z != 0 and lowBound < d / z < highBound:\n",
        "                print ('Hint: (', a, b, ') ->', h, 'then (', h, c, ') ->', z, 'then ', d, '/', z, \"=\", goal)\n",
        "                return 1\n",
        "    return 0\n",
        "\n"
      ],
      "execution_count": 0,
      "outputs": []
    },
    {
      "cell_type": "code",
      "metadata": {
        "colab_type": "code",
        "id": "0CiJ4nUctgnm",
        "colab": {}
      },
      "source": [
        "# Subfunction, ThreeAndOne(a, b, c, d)\n",
        "# Test if 24 can be solved by ((a,b),c),d) manner, Try all possible combinations\n",
        "# Return 1 if possible and return 0 if not possible. Do not give solutions.\n",
        "\n",
        "def ThreeAndOneNoPrint(a, b, c, d):\n",
        "    \n",
        "    h1 = a + b\n",
        "    h2 = a - b\n",
        "    h3 = b - a\n",
        "    h4 = a * b\n",
        "    if b != 0:\n",
        "        h5 = a / b\n",
        "    if a != 0:\n",
        "        h6 = b / a\n",
        "        \n",
        "    # find all combination of (h, c)\n",
        "    for h in [h1, h2, h3, h4, h5, h6]:\n",
        "        z1 = h + c\n",
        "        z2 = h - c\n",
        "        z3 = c - h\n",
        "        z4 = h * c\n",
        "        if c != 0:\n",
        "            z5 = h / c\n",
        "        if h != 0:\n",
        "            z6 = c / h\n",
        "        \n",
        "        for z in [z1, z2, z3, z4, z5, z6]:\n",
        "            if lowBound < z + d < highBound:\n",
        "                return 1\n",
        "            if lowBound < z - d < highBound:\n",
        "                return 1\n",
        "            if lowBound < d - z < highBound:\n",
        "                return 1\n",
        "            if lowBound < z * d < highBound:\n",
        "                return 1\n",
        "            if d != 0 and lowBound < z / d < highBound:\n",
        "                return 1\n",
        "            if z != 0 and lowBound < d / z < highBound:\n",
        "                return 1\n",
        "    return 0\n",
        "\n"
      ],
      "execution_count": 0,
      "outputs": []
    },
    {
      "cell_type": "code",
      "metadata": {
        "id": "dZYzCFbjlV-4",
        "colab_type": "code",
        "colab": {}
      },
      "source": [
        "# Now combine the above two cases, and try all the possible orders of the input numbers.\n",
        "# Notice in some cases, two numbers are commutable.\n",
        "\n",
        "def Is24(a, b, c, d):\n",
        "    \n",
        "    r = TwoAndTwo(a, b, c, d)\n",
        "    \n",
        "    if r==0:\n",
        "        r = TwoAndTwo(a, c, b, d)\n",
        "    \n",
        "    if r==0:\n",
        "        r = TwoAndTwo(a, d, b, c)\n",
        "\n",
        "# Done with all possible TwoAndTwo, Now move to test ALL possible ThreeAndOne, should have 12\n",
        "    if r==0:\n",
        "        r = ThreeAndOne(a, b, c, d)\n",
        "    \n",
        "    if r==0:\n",
        "        r = ThreeAndOne(a, b, d, c)\n",
        "        \n",
        "    if r==0:\n",
        "        r = ThreeAndOne(a, c, b, d)\n",
        "    \n",
        "    if r==0:\n",
        "        r = ThreeAndOne(a, c, d, b)\n",
        "    \n",
        "    if r==0:\n",
        "        r = ThreeAndOne(a, d, b, c)\n",
        "    \n",
        "    if r==0:\n",
        "        r = ThreeAndOne(a, d, c, b)\n",
        "    \n",
        "    if r==0:\n",
        "        r = ThreeAndOne(b, c, a, d)\n",
        "    \n",
        "    if r==0:\n",
        "        r = ThreeAndOne(b, c, d, a)\n",
        "    \n",
        "    if r==0:\n",
        "        r = ThreeAndOne(b, d, a, c)\n",
        "    \n",
        "    if r==0:\n",
        "        r = ThreeAndOne(b, d, c, a)\n",
        "    \n",
        "    if r==0:\n",
        "        r = ThreeAndOne(c, d, a, b)\n",
        "    \n",
        "    if r==0:\n",
        "        r = ThreeAndOne(c, d, b, a)\n",
        "    \n",
        "    if r==0:\n",
        "        print('Sorry, no way to make', goal)\n",
        "    \n",
        "    return r\n",
        "\n"
      ],
      "execution_count": 0,
      "outputs": []
    },
    {
      "cell_type": "code",
      "metadata": {
        "colab_type": "code",
        "id": "yRk7zPmGuEMa",
        "colab": {}
      },
      "source": [
        "# Now combine the above two cases, and try all the possible orders of the input numbers.\n",
        "# Notice in some cases, two numbers are commutable.\n",
        "\n",
        "def IsGoalNoPrint(a, b, c, d, goal):\n",
        "  \n",
        "    lowBound = goal - 0.00001\n",
        "    highBound = goal + 0.00001\n",
        "    \n",
        "    r = TwoAndTwoNoPrint(a, b, c, d)\n",
        "    \n",
        "    if r==0:\n",
        "        r = TwoAndTwoNoPrint(a, c, b, d)\n",
        "    \n",
        "    if r==0:\n",
        "        r = TwoAndTwoNoPrint(a, d, b, c)\n",
        "\n",
        "# Done with all possible TwoAndTwo, Now move to test ALL possible ThreeAndOne, should have 12\n",
        "    if r==0:\n",
        "        r = ThreeAndOneNoPrint(a, b, c, d)\n",
        "    \n",
        "    if r==0:\n",
        "        r = ThreeAndOneNoPrint(a, b, d, c)\n",
        "        \n",
        "    if r==0:\n",
        "        r = ThreeAndOneNoPrint(a, c, b, d)\n",
        "    \n",
        "    if r==0:\n",
        "        r = ThreeAndOneNoPrint(a, c, d, b)\n",
        "    \n",
        "    if r==0:\n",
        "        r = ThreeAndOneNoPrint(a, d, b, c)\n",
        "    \n",
        "    if r==0:\n",
        "        r = ThreeAndOneNoPrint(a, d, c, b)\n",
        "    \n",
        "    if r==0:\n",
        "        r = ThreeAndOneNoPrint(b, c, a, d)\n",
        "    \n",
        "    if r==0:\n",
        "        r = ThreeAndOneNoPrint(b, c, d, a)\n",
        "    \n",
        "    if r==0:\n",
        "        r = ThreeAndOneNoPrint(b, d, a, c)\n",
        "    \n",
        "    if r==0:\n",
        "        r = ThreeAndOneNoPrint(b, d, c, a)\n",
        "    \n",
        "    if r==0:\n",
        "        r = ThreeAndOneNoPrint(c, d, a, b)\n",
        "    \n",
        "    if r==0:\n",
        "        r = ThreeAndOneNoPrint(c, d, b, a)\n",
        "    \n",
        "#    if r==0:\n",
        "#        print('Sorry, no way to make', goal)\n",
        "    \n",
        "    return r\n",
        "\n"
      ],
      "execution_count": 0,
      "outputs": []
    },
    {
      "cell_type": "code",
      "metadata": {
        "id": "UdLInzkrlV-7",
        "colab_type": "code",
        "outputId": "2215e536-6069-45f6-cd31-bcfa2c7b9830",
        "colab": {
          "base_uri": "https://localhost:8080/",
          "height": 52
        }
      },
      "source": [
        "x = Is24(5,5,5,1)\n",
        "print(x)"
      ],
      "execution_count": 0,
      "outputs": [
        {
          "output_type": "stream",
          "text": [
            "Hint: ( 5 1 ) -> 0.2 then ( 0.2 5 ) -> 4.8 then  4.8 * 5 = 24\n",
            "1\n"
          ],
          "name": "stdout"
        }
      ]
    },
    {
      "cell_type": "code",
      "metadata": {
        "id": "h039KtS0lV-9",
        "colab_type": "code",
        "outputId": "1446a7d1-8226-416b-92ab-a6ee097d5a31",
        "colab": {
          "base_uri": "https://localhost:8080/",
          "height": 52
        }
      },
      "source": [
        "x = Is24(3,3,7,7)\n",
        "print(x)"
      ],
      "execution_count": 0,
      "outputs": [
        {
          "output_type": "stream",
          "text": [
            "Hint: ( 3 7 ) -> 0.42857142857142855 then ( 0.42857142857142855 3 ) -> 3.4285714285714284 then  3.4285714285714284 * 7 = 24\n",
            "1\n"
          ],
          "name": "stdout"
        }
      ]
    },
    {
      "cell_type": "code",
      "metadata": {
        "id": "pbUQhmf6liSd",
        "colab_type": "code",
        "outputId": "1b947d39-c31e-4f33-d769-3187d0fba4eb",
        "colab": {
          "base_uri": "https://localhost:8080/",
          "height": 35
        }
      },
      "source": [
        "x = Is24(1,6,3,4)"
      ],
      "execution_count": 0,
      "outputs": [
        {
          "output_type": "stream",
          "text": [
            "Hint: ( 3 4 ) -> 0.75 then ( 0.75 1 ) -> 0.25 then  6 / 0.25 = 24\n"
          ],
          "name": "stdout"
        }
      ]
    },
    {
      "cell_type": "code",
      "metadata": {
        "id": "ARmg17j_tKte",
        "colab_type": "code",
        "outputId": "cd18777e-314b-4f16-a88a-89fba06e5063",
        "colab": {
          "base_uri": "https://localhost:8080/",
          "height": 35
        }
      },
      "source": [
        "x = Is24(6,3,10,1)"
      ],
      "execution_count": 0,
      "outputs": [
        {
          "output_type": "stream",
          "text": [
            "Hint: ( 6 1 ) -> 6 and ( 3 10 ) -> 30 then  30 - 6 = 24\n"
          ],
          "name": "stdout"
        }
      ]
    },
    {
      "cell_type": "markdown",
      "metadata": {
        "id": "GqfAsaLylV-_",
        "colab_type": "text"
      },
      "source": [
        "### Now, with the code working, we can do a statistics to see how many possible ways that we can get a solution of the game by randomly drawing four cards from a deck. We will consider on 1-10 case"
      ]
    },
    {
      "cell_type": "code",
      "metadata": {
        "id": "BDxXJe7elV-_",
        "colab_type": "code",
        "outputId": "1334e49b-b252-4e6d-d773-c81ab45ef1d5",
        "colab": {
          "base_uri": "https://localhost:8080/",
          "height": 35
        }
      },
      "source": [
        "p = 0\n",
        "t = 0\n",
        "# p is a counter. If one combination can make 24, then t+1\n",
        "# t is to count how many total tests have been made. It can be estimated easily, but I put it here to track if there is any bug\n",
        "for a in range (1,11):\n",
        "    for b in range (1,11):\n",
        "        for c in range (1,11):\n",
        "            for d in range (1,11):\n",
        "                x = IsGoalNoPrint(a, b, c, d, 24)\n",
        "                t = t+1\n",
        "                if x == 1:\n",
        "                    p = p+1\n",
        "\n",
        "print(p, 'out of', t, 'number of combinations can make', goal, 'ratio is', p/t)"
      ],
      "execution_count": 0,
      "outputs": [
        {
          "output_type": "stream",
          "text": [
            "8558 out of 10000 number of combinations can make 24 ratio is 0.8558\n"
          ],
          "name": "stdout"
        }
      ]
    },
    {
      "cell_type": "markdown",
      "metadata": {
        "id": "N-a4hd3VlV_B",
        "colab_type": "text"
      },
      "source": [
        "### Now Consider J, Q and K, which are count as 11, 12, 13"
      ]
    },
    {
      "cell_type": "markdown",
      "metadata": {
        "id": "YBRjht5KqNZn",
        "colab_type": "text"
      },
      "source": [
        "### This is what I call \"the car plate\" possibility, where 1,1,1,1 and 1,2,3,4 have the same probability. \n",
        "### Notice in this study, 1,2,3,4 and 4,3,2,1 are considered as two different permutation, although they give the same answer."
      ]
    },
    {
      "cell_type": "code",
      "metadata": {
        "id": "UyrlYa9KlV_B",
        "colab_type": "code",
        "outputId": "7fe1e60e-59bf-4cf5-ec31-afc36283980c",
        "colab": {
          "base_uri": "https://localhost:8080/",
          "height": 35
        }
      },
      "source": [
        "p = 0\n",
        "t = 0\n",
        "# p is a counter. If one combination can make 24, then t+1\n",
        "# t is to count how many total tests have been made. It can be estimated easily, but I put it here to track if there is any bug\n",
        "for a in range (1,14):\n",
        "    for b in range (1,14):\n",
        "        for c in range (1,14):\n",
        "            for d in range (1,14):\n",
        "                x = IsGoalNoPrint(a, b, c, d, goal)\n",
        "                t = t+1\n",
        "                if x == 1:\n",
        "                    p = p+1\n",
        "\n",
        "print(p, 'out of', t, 'number of combinations can make', goal, 'ratio is', p/t)"
      ],
      "execution_count": 0,
      "outputs": [
        {
          "output_type": "stream",
          "text": [
            "22615 out of 28561 number of combinations can make 24 ratio is 0.7918140121144218\n"
          ],
          "name": "stdout"
        }
      ]
    },
    {
      "cell_type": "markdown",
      "metadata": {
        "id": "Q4bQcCfjsjon",
        "colab_type": "text"
      },
      "source": [
        "### Now Let's consider the real probability in a deck of card, where 1, 1, 1, 1 and 1, 2, 3, 4 have different probability"
      ]
    },
    {
      "cell_type": "code",
      "metadata": {
        "id": "JM_cQgaFs3P-",
        "colab_type": "code",
        "outputId": "e3fbcd91-1bc0-44df-deff-0d0a5007be04",
        "colab": {
          "base_uri": "https://localhost:8080/",
          "height": 35
        }
      },
      "source": [
        "p = 0\n",
        "t = 0\n",
        "# p is a counter. If one combination can make 24, then t+1\n",
        "# t is to count how many total tests have been made. It can be estimated easily, but I put it here to track if there is any bug\n",
        "for a4 in range (52):\n",
        "    a = int(a4/4) + 1\n",
        "    for b4 in range (52):\n",
        "      if b4 != a4:\n",
        "        b = int(b4/4) + 1\n",
        "        for c4 in range (52):\n",
        "          if c4 != b4 and c4 != a4:\n",
        "            c = int(c4/4) + 1\n",
        "            for d4 in range (52):\n",
        "              if d4 != a4 and d4 !=b4 and d4 != c4:\n",
        "                d = int(d4/4) + 1\n",
        "                x = IsGoalNoPrint(a, b, c, d, goal)\n",
        "                t = t+1\n",
        "                if x == 1:\n",
        "                    p = p+1\n",
        "\n",
        "print(p, 'out of', t, 'number of combinations can make', goal, 'success ratio is', p/t)"
      ],
      "execution_count": 0,
      "outputs": [
        {
          "output_type": "stream",
          "text": [
            "5227608 out of 6497400 number of combinations can make 24 success ratio is 0.8045692123003048\n"
          ],
          "name": "stdout"
        }
      ]
    },
    {
      "cell_type": "code",
      "metadata": {
        "id": "ypQw2wI7s_nL",
        "colab_type": "code",
        "outputId": "2465180c-d8c3-460e-d2a1-d38639d67f5f",
        "colab": {
          "base_uri": "https://localhost:8080/",
          "height": 35
        }
      },
      "source": [
        "x = int (51/4)\n",
        "print (x)"
      ],
      "execution_count": 0,
      "outputs": [
        {
          "output_type": "stream",
          "text": [
            "12\n"
          ],
          "name": "stdout"
        }
      ]
    },
    {
      "cell_type": "markdown",
      "metadata": {
        "id": "TNy3XFBujXTz",
        "colab_type": "text"
      },
      "source": [
        "### This is to test Combinations (Does not consider order), and compare results with others. \n",
        "### Total of 1820 combinations, and 458 out them them has not solutions"
      ]
    },
    {
      "cell_type": "code",
      "metadata": {
        "id": "d10_PqyOkVRZ",
        "colab_type": "code",
        "outputId": "ec38d0ba-9b60-494a-f6d4-e1d5d2b81c9a",
        "colab": {
          "base_uri": "https://localhost:8080/",
          "height": 35
        }
      },
      "source": [
        "p = 0\n",
        "t = 0\n",
        "# p is a counter. If one combination can make 24, then t+1\n",
        "# t is to count how many total tests have been made. It can be estimated easily, but I put it here to track if there is any bug\n",
        "for a in range (1,14):\n",
        "    for b in range (1,a+1):\n",
        "        for c in range (1,b+1):\n",
        "            for d in range (1,c+1):\n",
        "                x = IsGoalNoPrint(a, b, c, d, goal)\n",
        "                t = t+1\n",
        "                if x == 1:\n",
        "                    p = p+1\n",
        "\n",
        "print(p, 'out of', t, 'number of combinations can make', goal, 'ratio is', p/t, ', and', t-p, 'combinations have no solution')"
      ],
      "execution_count": 0,
      "outputs": [
        {
          "output_type": "stream",
          "text": [
            "1362 out of 1820 number of combinations can make 24 ratio is 0.7483516483516484 , and 458 combinations have no solution\n"
          ],
          "name": "stdout"
        }
      ]
    },
    {
      "cell_type": "code",
      "metadata": {
        "id": "Bli_aBoqlV_C",
        "colab_type": "code",
        "colab": {}
      },
      "source": [
        "import pandas as pd\n",
        "df = pd.DataFrame(index=range(101), columns=['possible10','total10','ratio10','possible13','total13','ratio13'])"
      ],
      "execution_count": 0,
      "outputs": []
    },
    {
      "cell_type": "code",
      "metadata": {
        "id": "j5tgbXiQ0Gvg",
        "colab_type": "code",
        "outputId": "96ffdeae-49ff-49e8-fb4a-322a897fafe4",
        "colab": {
          "base_uri": "https://localhost:8080/",
          "height": 183
        }
      },
      "source": [
        "!cp drive/My\\ Drive/24Stats.csv .\n",
        "df = read_csv('24Stats.csv')"
      ],
      "execution_count": 0,
      "outputs": [
        {
          "output_type": "error",
          "ename": "NameError",
          "evalue": "ignored",
          "traceback": [
            "\u001b[0;31m---------------------------------------------------------------------------\u001b[0m",
            "\u001b[0;31mNameError\u001b[0m                                 Traceback (most recent call last)",
            "\u001b[0;32m<ipython-input-4-e598f34fb7fa>\u001b[0m in \u001b[0;36m<module>\u001b[0;34m()\u001b[0m\n\u001b[1;32m      1\u001b[0m \u001b[0mget_ipython\u001b[0m\u001b[0;34m(\u001b[0m\u001b[0;34m)\u001b[0m\u001b[0;34m.\u001b[0m\u001b[0msystem\u001b[0m\u001b[0;34m(\u001b[0m\u001b[0;34m'cp drive/My\\\\ Drive/24Stats.csv .'\u001b[0m\u001b[0;34m)\u001b[0m\u001b[0;34m\u001b[0m\u001b[0;34m\u001b[0m\u001b[0m\n\u001b[0;32m----> 2\u001b[0;31m \u001b[0mdf\u001b[0m \u001b[0;34m=\u001b[0m \u001b[0mread_csv\u001b[0m\u001b[0;34m(\u001b[0m\u001b[0;34m'24Stats.csv'\u001b[0m\u001b[0;34m)\u001b[0m\u001b[0;34m\u001b[0m\u001b[0;34m\u001b[0m\u001b[0m\n\u001b[0m",
            "\u001b[0;31mNameError\u001b[0m: name 'read_csv' is not defined"
          ]
        }
      ]
    },
    {
      "cell_type": "code",
      "metadata": {
        "scrolled": false,
        "id": "VSQcjO6glV_E",
        "colab_type": "code",
        "outputId": "55bfccfd-76bf-4453-c593-9c4407bce1b8",
        "colab": {
          "base_uri": "https://localhost:8080/",
          "height": 1000
        }
      },
      "source": [
        "for goal in range (101):\n",
        "    lowBound = goal - .001\n",
        "    highBound = goal + .001\n",
        "    # for all possible goals between 0 to 100, each set a range to deal with errors during float calculation\n",
        "\n",
        "    # Only 1-10, values load to ratio10\n",
        "    p = 0\n",
        "    t = 0\n",
        "    for a in range (1,11):\n",
        "        for b in range (1,11):\n",
        "            for c in range (1,11):\n",
        "                for d in range (1,11):\n",
        "                    x = IsGoalNoPrint(a, b, c, d, goal)\n",
        "                    t = t+1\n",
        "                    if x == 1:\n",
        "                        p = p+1\n",
        "    print(p, 'out of', t, 'number of combinations can make', goal, 'ratio is', p/t)         \n",
        "    df.iloc[goal]['possible10'] = p\n",
        "    df.iloc[goal]['total10'] = t\n",
        "    df.iloc[goal]['ratio10'] = p/t\n",
        "\n",
        "    p = 0\n",
        "    t = 0\n",
        "    # including J, Q, K, values load to ratio13\n",
        "    for a in range (1,14):\n",
        "        for b in range (1,14):\n",
        "            for c in range (1,14):\n",
        "                for d in range (1,14):\n",
        "                    x = IsGoalNoPrint(a, b, c, d, goal)\n",
        "                    t = t+1\n",
        "                    if x == 1:\n",
        "                        p = p+1\n",
        "    print(p, 'out of', t, 'number of combinations can make', goal, 'ratio is', p/t)        \n",
        "    df.iloc[goal]['possible13'] = p\n",
        "    df.iloc[goal]['total13'] = t\n",
        "    df.iloc[goal]['ratio13'] = p/t\n",
        "    "
      ],
      "execution_count": 0,
      "outputs": [
        {
          "output_type": "stream",
          "text": [
            "9352 out of 10000 number of combinations can make 0 ratio is 0.9352\n",
            "23977 out of 28561 number of combinations can make 0 ratio is 0.8395014180175764\n",
            "9444 out of 10000 number of combinations can make 1 ratio is 0.9444\n",
            "25317 out of 28561 number of combinations can make 1 ratio is 0.8864185427681104\n",
            "9948 out of 10000 number of combinations can make 2 ratio is 0.9948\n",
            "27865 out of 28561 number of combinations can make 2 ratio is 0.975631105353454\n",
            "9706 out of 10000 number of combinations can make 3 ratio is 0.9706\n",
            "26675 out of 28561 number of combinations can make 3 ratio is 0.9339658975526067\n",
            "9599 out of 10000 number of combinations can make 4 ratio is 0.9599\n",
            "26249 out of 28561 number of combinations can make 4 ratio is 0.9190504534154966\n",
            "9577 out of 10000 number of combinations can make 5 ratio is 0.9577\n",
            "25415 out of 28561 number of combinations can make 5 ratio is 0.889849795175239\n",
            "9497 out of 10000 number of combinations can make 6 ratio is 0.9497\n",
            "25702 out of 28561 number of combinations can make 6 ratio is 0.8998984629389727\n",
            "9337 out of 10000 number of combinations can make 7 ratio is 0.9337\n",
            "24977 out of 28561 number of combinations can make 7 ratio is 0.874514197682154\n",
            "9334 out of 10000 number of combinations can make 8 ratio is 0.9334\n",
            "24820 out of 28561 number of combinations can make 8 ratio is 0.8690171912748154\n",
            "9183 out of 10000 number of combinations can make 9 ratio is 0.9183\n",
            "24880 out of 28561 number of combinations can make 9 ratio is 0.87111795805469\n",
            "9232 out of 10000 number of combinations can make 10 ratio is 0.9232\n",
            "24740 out of 28561 number of combinations can make 10 ratio is 0.8662161689016491\n",
            "8906 out of 10000 number of combinations can make 11 ratio is 0.8906\n",
            "24003 out of 28561 number of combinations can make 11 ratio is 0.8404117502888554\n",
            "9303 out of 10000 number of combinations can make 12 ratio is 0.9303\n",
            "24720 out of 28561 number of combinations can make 12 ratio is 0.8655159133083575\n",
            "8422 out of 10000 number of combinations can make 13 ratio is 0.8422\n",
            "22999 out of 28561 number of combinations can make 13 ratio is 0.8052589195056196\n",
            "8925 out of 10000 number of combinations can make 14 ratio is 0.8925\n",
            "24169 out of 28561 number of combinations can make 14 ratio is 0.8462238717131753\n",
            "8863 out of 10000 number of combinations can make 15 ratio is 0.8863\n",
            "24016 out of 28561 number of combinations can make 15 ratio is 0.840866916424495\n",
            "9015 out of 10000 number of combinations can make 16 ratio is 0.9015\n",
            "23643 out of 28561 number of combinations can make 16 ratio is 0.8278071496096076\n",
            "7751 out of 10000 number of combinations can make 17 ratio is 0.7751\n",
            "20995 out of 28561 number of combinations can make 17 ratio is 0.7350933090578061\n",
            "8818 out of 10000 number of combinations can make 18 ratio is 0.8818\n",
            "23306 out of 28561 number of combinations can make 18 ratio is 0.8160078428626448\n",
            "7772 out of 10000 number of combinations can make 19 ratio is 0.7772\n",
            "20314 out of 28561 number of combinations can make 19 ratio is 0.7112496061062288\n",
            "8791 out of 10000 number of combinations can make 20 ratio is 0.8791\n",
            "22789 out of 28561 number of combinations can make 20 ratio is 0.7979062357760582\n",
            "7874 out of 10000 number of combinations can make 21 ratio is 0.7874\n",
            "21189 out of 28561 number of combinations can make 21 ratio is 0.7418857883127341\n",
            "7614 out of 10000 number of combinations can make 22 ratio is 0.7614\n",
            "21121 out of 28561 number of combinations can make 22 ratio is 0.7395049192955429\n",
            "6944 out of 10000 number of combinations can make 23 ratio is 0.6944\n",
            "19132 out of 28561 number of combinations can make 23 ratio is 0.6698645005426981\n",
            "8558 out of 10000 number of combinations can make 24 ratio is 0.8558\n",
            "22615 out of 28561 number of combinations can make 24 ratio is 0.7918140121144218\n",
            "6867 out of 10000 number of combinations can make 25 ratio is 0.6867\n",
            "18483 out of 28561 number of combinations can make 25 ratio is 0.6471412065403872\n",
            "7371 out of 10000 number of combinations can make 26 ratio is 0.7371\n",
            "20160 out of 28561 number of combinations can make 26 ratio is 0.7058576380378838\n",
            "7381 out of 10000 number of combinations can make 27 ratio is 0.7381\n",
            "19652 out of 28561 number of combinations can make 27 ratio is 0.6880711459682785\n",
            "7894 out of 10000 number of combinations can make 28 ratio is 0.7894\n",
            "20356 out of 28561 number of combinations can make 28 ratio is 0.712720142852141\n",
            "6174 out of 10000 number of combinations can make 29 ratio is 0.6174\n",
            "16940 out of 28561 number of combinations can make 29 ratio is 0.5931164875179441\n",
            "7909 out of 10000 number of combinations can make 30 ratio is 0.7909\n",
            "20209 out of 28561 number of combinations can make 30 ratio is 0.7075732642414482\n",
            "5846 out of 10000 number of combinations can make 31 ratio is 0.5846\n",
            "16004 out of 28561 number of combinations can make 31 ratio is 0.5603445257518994\n",
            "7218 out of 10000 number of combinations can make 32 ratio is 0.7218\n",
            "19090 out of 28561 number of combinations can make 32 ratio is 0.6683939637967858\n",
            "6182 out of 10000 number of combinations can make 33 ratio is 0.6182\n",
            "18216 out of 28561 number of combinations can make 33 ratio is 0.6377927943699451\n",
            "5956 out of 10000 number of combinations can make 34 ratio is 0.5956\n",
            "15810 out of 28561 number of combinations can make 34 ratio is 0.5535520464969714\n",
            "6859 out of 10000 number of combinations can make 35 ratio is 0.6859\n",
            "17761 out of 28561 number of combinations can make 35 ratio is 0.6218619796225623\n",
            "8092 out of 10000 number of combinations can make 36 ratio is 0.8092\n",
            "21348 out of 28561 number of combinations can make 36 ratio is 0.747452820279402\n",
            "5019 out of 10000 number of combinations can make 37 ratio is 0.5019\n",
            "14733 out of 28561 number of combinations can make 37 ratio is 0.5158432827982213\n",
            "5608 out of 10000 number of combinations can make 38 ratio is 0.5608\n",
            "15012 out of 28561 number of combinations can make 38 ratio is 0.5256118483246385\n",
            "5660 out of 10000 number of combinations can make 39 ratio is 0.566\n",
            "16852 out of 28561 number of combinations can make 39 ratio is 0.5900353629074612\n",
            "7677 out of 10000 number of combinations can make 40 ratio is 0.7677\n",
            "19837 out of 28561 number of combinations can make 40 ratio is 0.6945485102062253\n",
            "4710 out of 10000 number of combinations can make 41 ratio is 0.471\n",
            "13224 out of 28561 number of combinations can make 41 ratio is 0.4630089982843738\n",
            "6586 out of 10000 number of combinations can make 42 ratio is 0.6586\n",
            "17324 out of 28561 number of combinations can make 42 ratio is 0.6065613949091418\n",
            "4388 out of 10000 number of combinations can make 43 ratio is 0.4388\n",
            "13260 out of 28561 number of combinations can make 43 ratio is 0.4642694583522986\n",
            "5990 out of 10000 number of combinations can make 44 ratio is 0.599\n",
            "17305 out of 28561 number of combinations can make 44 ratio is 0.6058961520955148\n",
            "6631 out of 10000 number of combinations can make 45 ratio is 0.6631\n",
            "16881 out of 28561 number of combinations can make 45 ratio is 0.591050733517734\n",
            "5034 out of 10000 number of combinations can make 46 ratio is 0.5034\n",
            "13310 out of 28561 number of combinations can make 46 ratio is 0.46602009733552746\n",
            "4382 out of 10000 number of combinations can make 47 ratio is 0.4382\n",
            "12442 out of 28561 number of combinations can make 47 ratio is 0.43562900458667414\n",
            "7084 out of 10000 number of combinations can make 48 ratio is 0.7084\n",
            "19275 out of 28561 number of combinations can make 48 ratio is 0.6748713280347327\n",
            "5041 out of 10000 number of combinations can make 49 ratio is 0.5041\n",
            "13723 out of 28561 number of combinations can make 49 ratio is 0.480480375336998\n",
            "5968 out of 10000 number of combinations can make 50 ratio is 0.5968\n",
            "14786 out of 28561 number of combinations can make 50 ratio is 0.5176989601204439\n",
            "4766 out of 10000 number of combinations can make 51 ratio is 0.4766\n",
            "13364 out of 28561 number of combinations can make 51 ratio is 0.46791078743741465\n",
            "4762 out of 10000 number of combinations can make 52 ratio is 0.4762\n",
            "15099 out of 28561 number of combinations can make 52 ratio is 0.5286579601554567\n",
            "3924 out of 10000 number of combinations can make 53 ratio is 0.3924\n",
            "11718 out of 28561 number of combinations can make 53 ratio is 0.41027975210952\n",
            "6467 out of 10000 number of combinations can make 54 ratio is 0.6467\n",
            "16267 out of 28561 number of combinations can make 54 ratio is 0.5695528868036833\n",
            "4737 out of 10000 number of combinations can make 55 ratio is 0.4737\n",
            "14195 out of 28561 number of combinations can make 55 ratio is 0.4970064073386786\n",
            "6084 out of 10000 number of combinations can make 56 ratio is 0.6084\n",
            "15930 out of 28561 number of combinations can make 56 ratio is 0.5577535800567207\n",
            "4014 out of 10000 number of combinations can make 57 ratio is 0.4014\n",
            "12094 out of 28561 number of combinations can make 57 ratio is 0.42344455726340113\n",
            "4242 out of 10000 number of combinations can make 58 ratio is 0.4242\n",
            "11544 out of 28561 number of combinations can make 58 ratio is 0.40418752844788347\n",
            "3404 out of 10000 number of combinations can make 59 ratio is 0.3404\n",
            "10948 out of 28561 number of combinations can make 59 ratio is 0.38331991176779523\n",
            "6831 out of 10000 number of combinations can make 60 ratio is 0.6831\n",
            "18955 out of 28561 number of combinations can make 60 ratio is 0.6636672385420679\n",
            "3288 out of 10000 number of combinations can make 61 ratio is 0.3288\n",
            "10306 out of 28561 number of combinations can make 61 ratio is 0.36084170722313647\n",
            "3910 out of 10000 number of combinations can make 62 ratio is 0.391\n",
            "11016 out of 28561 number of combinations can make 62 ratio is 0.38570078078498654\n",
            "5271 out of 10000 number of combinations can make 63 ratio is 0.5271\n",
            "13979 out of 28561 number of combinations can make 63 ratio is 0.48944364693112985\n",
            "5246 out of 10000 number of combinations can make 64 ratio is 0.5246\n",
            "14162 out of 28561 number of combinations can make 64 ratio is 0.49585098560974755\n",
            "3925 out of 10000 number of combinations can make 65 ratio is 0.3925\n",
            "13025 out of 28561 number of combinations can make 65 ratio is 0.4560414551311229\n",
            "4655 out of 10000 number of combinations can make 66 ratio is 0.4655\n",
            "14693 out of 28561 number of combinations can make 66 ratio is 0.5144427716116382\n",
            "2786 out of 10000 number of combinations can make 67 ratio is 0.2786\n",
            "9918 out of 28561 number of combinations can make 67 ratio is 0.3472567487132803\n",
            "3665 out of 10000 number of combinations can make 68 ratio is 0.3665\n",
            "11569 out of 28561 number of combinations can make 68 ratio is 0.4050628479394979\n",
            "3458 out of 10000 number of combinations can make 69 ratio is 0.3458\n",
            "10942 out of 28561 number of combinations can make 69 ratio is 0.3831098350898078\n",
            "5764 out of 10000 number of combinations can make 70 ratio is 0.5764\n",
            "14584 out of 28561 number of combinations can make 70 ratio is 0.5106263786281993\n",
            "2776 out of 10000 number of combinations can make 71 ratio is 0.2776\n",
            "9198 out of 28561 number of combinations can make 71 ratio is 0.32204754735478447\n",
            "6405 out of 10000 number of combinations can make 72 ratio is 0.6405\n",
            "17811 out of 28561 number of combinations can make 72 ratio is 0.6236126186057911\n",
            "2700 out of 10000 number of combinations can make 73 ratio is 0.27\n",
            "9230 out of 28561 number of combinations can make 73 ratio is 0.323167956304051\n",
            "3114 out of 10000 number of combinations can make 74 ratio is 0.3114\n",
            "9396 out of 28561 number of combinations can make 74 ratio is 0.32898007772837085\n",
            "3787 out of 10000 number of combinations can make 75 ratio is 0.3787\n",
            "11737 out of 28561 number of combinations can make 75 ratio is 0.41094499492314696\n",
            "3374 out of 10000 number of combinations can make 76 ratio is 0.3374\n",
            "11284 out of 28561 number of combinations can make 76 ratio is 0.3950842057350933\n",
            "3440 out of 10000 number of combinations can make 77 ratio is 0.344\n",
            "12198 out of 28561 number of combinations can make 77 ratio is 0.4270858863485172\n",
            "4057 out of 10000 number of combinations can make 78 ratio is 0.4057\n",
            "13599 out of 28561 number of combinations can make 78 ratio is 0.4761387906585904\n",
            "2412 out of 10000 number of combinations can make 79 ratio is 0.2412\n",
            "8338 out of 28561 number of combinations can make 79 ratio is 0.29193655684324776\n",
            "5706 out of 10000 number of combinations can make 80 ratio is 0.5706\n",
            "15186 out of 28561 number of combinations can make 80 ratio is 0.531704071986275\n",
            "3616 out of 10000 number of combinations can make 81 ratio is 0.3616\n",
            "10858 out of 28561 number of combinations can make 81 ratio is 0.38016876159798324\n",
            "2593 out of 10000 number of combinations can make 82 ratio is 0.2593\n",
            "8467 out of 28561 number of combinations can make 82 ratio is 0.29645320541997827\n",
            "2070 out of 10000 number of combinations can make 83 ratio is 0.207\n",
            "8348 out of 28561 number of combinations can make 83 ratio is 0.29228668463989355\n",
            "5056 out of 10000 number of combinations can make 84 ratio is 0.5056\n",
            "15322 out of 28561 number of combinations can make 84 ratio is 0.5364658100206575\n",
            "2724 out of 10000 number of combinations can make 85 ratio is 0.2724\n",
            "9324 out of 28561 number of combinations can make 85 ratio is 0.32645915759252125\n",
            "2292 out of 10000 number of combinations can make 86 ratio is 0.2292\n",
            "8146 out of 28561 number of combinations can make 86 ratio is 0.2852141031476489\n",
            "2344 out of 10000 number of combinations can make 87 ratio is 0.2344\n",
            "8744 out of 28561 number of combinations can make 87 ratio is 0.3061517453870663\n",
            "3650 out of 10000 number of combinations can make 88 ratio is 0.365\n",
            "12678 out of 28561 number of combinations can make 88 ratio is 0.4438920205875144\n",
            "1914 out of 10000 number of combinations can make 89 ratio is 0.1914\n",
            "7260 out of 28561 number of combinations can make 89 ratio is 0.25419278036483317\n",
            "5522 out of 10000 number of combinations can make 90 ratio is 0.5522\n",
            "14918 out of 28561 number of combinations can make 90 ratio is 0.5223206470361682\n",
            "2523 out of 10000 number of combinations can make 91 ratio is 0.2523\n",
            "10019 out of 28561 number of combinations can make 91 ratio is 0.35079303945940266\n",
            "2466 out of 10000 number of combinations can make 92 ratio is 0.2466\n",
            "9302 out of 28561 number of combinations can make 92 ratio is 0.3256888764399006\n",
            "2030 out of 10000 number of combinations can make 93 ratio is 0.203\n",
            "8118 out of 28561 number of combinations can make 93 ratio is 0.2842337453170407\n",
            "1888 out of 10000 number of combinations can make 94 ratio is 0.1888\n",
            "7376 out of 28561 number of combinations can make 94 ratio is 0.2582542628059242\n",
            "1976 out of 10000 number of combinations can make 95 ratio is 0.1976\n",
            "7958 out of 28561 number of combinations can make 95 ratio is 0.2786317005707083\n",
            "4622 out of 10000 number of combinations can make 96 ratio is 0.4622\n",
            "14232 out of 28561 number of combinations can make 96 ratio is 0.498301880186268\n",
            "1414 out of 10000 number of combinations can make 97 ratio is 0.1414\n",
            "6734 out of 28561 number of combinations can make 97 ratio is 0.23577605826126535\n",
            "2723 out of 10000 number of combinations can make 98 ratio is 0.2723\n",
            "9291 out of 28561 number of combinations can make 98 ratio is 0.32530373586359024\n",
            "2798 out of 10000 number of combinations can make 99 ratio is 0.2798\n",
            "10611 out of 28561 number of combinations can make 99 ratio is 0.3715206050208326\n",
            "3590 out of 10000 number of combinations can make 100 ratio is 0.359\n",
            "11544 out of 28561 number of combinations can make 100 ratio is 0.40418752844788347\n"
          ],
          "name": "stdout"
        }
      ]
    },
    {
      "cell_type": "code",
      "metadata": {
        "id": "RNEnMPNjlV_G",
        "colab_type": "code",
        "outputId": "c92c671f-14f8-4ef0-cda3-195f71e77517",
        "colab": {
          "base_uri": "https://localhost:8080/",
          "height": 202
        }
      },
      "source": [
        "df.head()"
      ],
      "execution_count": 0,
      "outputs": [
        {
          "output_type": "execute_result",
          "data": {
            "text/html": [
              "<div>\n",
              "<style scoped>\n",
              "    .dataframe tbody tr th:only-of-type {\n",
              "        vertical-align: middle;\n",
              "    }\n",
              "\n",
              "    .dataframe tbody tr th {\n",
              "        vertical-align: top;\n",
              "    }\n",
              "\n",
              "    .dataframe thead th {\n",
              "        text-align: right;\n",
              "    }\n",
              "</style>\n",
              "<table border=\"1\" class=\"dataframe\">\n",
              "  <thead>\n",
              "    <tr style=\"text-align: right;\">\n",
              "      <th></th>\n",
              "      <th>possible10</th>\n",
              "      <th>total10</th>\n",
              "      <th>ratio10</th>\n",
              "      <th>possible13</th>\n",
              "      <th>total13</th>\n",
              "      <th>ratio13</th>\n",
              "    </tr>\n",
              "  </thead>\n",
              "  <tbody>\n",
              "    <tr>\n",
              "      <th>0</th>\n",
              "      <td>9352</td>\n",
              "      <td>10000</td>\n",
              "      <td>0.9352</td>\n",
              "      <td>23977</td>\n",
              "      <td>28561</td>\n",
              "      <td>0.839501</td>\n",
              "    </tr>\n",
              "    <tr>\n",
              "      <th>1</th>\n",
              "      <td>9444</td>\n",
              "      <td>10000</td>\n",
              "      <td>0.9444</td>\n",
              "      <td>25317</td>\n",
              "      <td>28561</td>\n",
              "      <td>0.886419</td>\n",
              "    </tr>\n",
              "    <tr>\n",
              "      <th>2</th>\n",
              "      <td>9948</td>\n",
              "      <td>10000</td>\n",
              "      <td>0.9948</td>\n",
              "      <td>27865</td>\n",
              "      <td>28561</td>\n",
              "      <td>0.975631</td>\n",
              "    </tr>\n",
              "    <tr>\n",
              "      <th>3</th>\n",
              "      <td>9706</td>\n",
              "      <td>10000</td>\n",
              "      <td>0.9706</td>\n",
              "      <td>26675</td>\n",
              "      <td>28561</td>\n",
              "      <td>0.933966</td>\n",
              "    </tr>\n",
              "    <tr>\n",
              "      <th>4</th>\n",
              "      <td>9599</td>\n",
              "      <td>10000</td>\n",
              "      <td>0.9599</td>\n",
              "      <td>26249</td>\n",
              "      <td>28561</td>\n",
              "      <td>0.91905</td>\n",
              "    </tr>\n",
              "  </tbody>\n",
              "</table>\n",
              "</div>"
            ],
            "text/plain": [
              "  possible10 total10 ratio10 possible13 total13   ratio13\n",
              "0       9352   10000  0.9352      23977   28561  0.839501\n",
              "1       9444   10000  0.9444      25317   28561  0.886419\n",
              "2       9948   10000  0.9948      27865   28561  0.975631\n",
              "3       9706   10000  0.9706      26675   28561  0.933966\n",
              "4       9599   10000  0.9599      26249   28561   0.91905"
            ]
          },
          "metadata": {
            "tags": []
          },
          "execution_count": 19
        }
      ]
    },
    {
      "cell_type": "code",
      "metadata": {
        "id": "sMVfe6887Wkj",
        "colab_type": "code",
        "colab": {}
      },
      "source": [
        "df.to_csv('24Stats.csv')\n",
        "!cp 24Stats.csv drive/My\\ Drive/"
      ],
      "execution_count": 0,
      "outputs": []
    },
    {
      "cell_type": "code",
      "metadata": {
        "id": "hOchZ8jN8Yu7",
        "colab_type": "code",
        "outputId": "3ed855b4-cbb7-42c5-8768-94df856fafc5",
        "colab": {
          "base_uri": "https://localhost:8080/",
          "height": 124
        }
      },
      "source": [
        "from google.colab import drive\n",
        "drive.mount('drive')"
      ],
      "execution_count": 0,
      "outputs": [
        {
          "output_type": "stream",
          "text": [
            "Go to this URL in a browser: https://accounts.google.com/o/oauth2/auth?client_id=947318989803-6bn6qk8qdgf4n4g3pfee6491hc0brc4i.apps.googleusercontent.com&redirect_uri=urn%3Aietf%3Awg%3Aoauth%3A2.0%3Aoob&scope=email%20https%3A%2F%2Fwww.googleapis.com%2Fauth%2Fdocs.test%20https%3A%2F%2Fwww.googleapis.com%2Fauth%2Fdrive%20https%3A%2F%2Fwww.googleapis.com%2Fauth%2Fdrive.photos.readonly%20https%3A%2F%2Fwww.googleapis.com%2Fauth%2Fpeopleapi.readonly&response_type=code\n",
            "\n",
            "Enter your authorization code:\n",
            "··········\n",
            "Mounted at drive\n"
          ],
          "name": "stdout"
        }
      ]
    },
    {
      "cell_type": "code",
      "metadata": {
        "id": "2bMr5muElV_H",
        "colab_type": "code",
        "colab": {}
      },
      "source": [
        "import matplotlib.pyplot as plt\n",
        "import matplotlib\n",
        "%matplotlib inline\n",
        "import numpy as np\n",
        "import seaborn as sns"
      ],
      "execution_count": 0,
      "outputs": []
    },
    {
      "cell_type": "code",
      "metadata": {
        "id": "L8GQhUfLU-bz",
        "colab_type": "code",
        "colab": {}
      },
      "source": [
        ""
      ],
      "execution_count": 0,
      "outputs": []
    },
    {
      "cell_type": "code",
      "metadata": {
        "id": "pmYEq4ch3uJ7",
        "colab_type": "code",
        "outputId": "902c080d-f3d3-4c16-9c95-65fd9ef934d4",
        "colab": {
          "base_uri": "https://localhost:8080/",
          "height": 625
        }
      },
      "source": [
        "plt.figure(figsize=(20,10))\n",
        "plt.xlabel('Goal', fontsize=20)\n",
        "plt.ylabel('Success Rate', fontsize =20)\n",
        "plt.grid(color='grey', linestyle='-', linewidth=2)\n",
        "plt.locator_params(axis='x', nbins=20)\n",
        "plt.tick_params(labelsize=20)\n",
        "sns.scatterplot( data = df.ratio13, label = '1-13')\n",
        "sns.scatterplot( data = df.ratio10, label = '1-10')\n",
        "plt.show()\n"
      ],
      "execution_count": 0,
      "outputs": [
        {
          "output_type": "display_data",
          "data": {
            "image/png": "[encoded data removed]",
            "text/plain": [
              "<Figure size 1440x720 with 1 Axes>"
            ]
          },
          "metadata": {
            "tags": []
          }
        }
      ]
    },
    {
      "cell_type": "code",
      "metadata": {
        "id": "d3nR9rFY4rjN",
        "colab_type": "code",
        "colab": {}
      },
      "source": [
        ""
      ],
      "execution_count": 0,
      "outputs": []
    }
  ]
}